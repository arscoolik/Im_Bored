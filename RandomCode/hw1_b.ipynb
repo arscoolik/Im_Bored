{
  "cells": [
    {
      "cell_type": "markdown",
      "metadata": {
        "id": "7849ff45"
      },
      "source": [
        "# <a href=\"https://mipt-stats.gitlab.io/courses/mathstat_bmhf.html\">Математическая статистика (ФБМФ, ФМХФ)</a>\n",
        "## Домашнее задание 1 &mdash; часть B\n",
        "\n",
        "**Правила:**\n",
        "\n",
        "* Выполненную работу нужно отправить телеграм-боту `@miptstats_st22_bot`. Для начала работы с ботом каждый раз отправляйте `/start`. Работы, присланные иным способом, не принимаются.\n",
        "* Дедлайн см. в боте. После дедлайна работы не принимаются **вообще никак**, кроме случаев наличия уважительной причины.\n",
        "* До дедлайна можно поменять решение любое количество раз. Начинайте точно так же сдавать задание, бот подскажет.\n",
        "* Любую уважительную причину нужно подтвердить документально, отправив скан или фото боту. При этом работу можно сдать позже на столько дней, на сколько время ее действия пересекается с временем выполнения задания.\n",
        "* **По задаче 4** необходимо отправить **фото** в хорошем качестве (почерк, масштаб, освещенность, ориентация и т.д.). Фото плохого качества могут быть проигнорированы. \n",
        "* **По задачам 5, 6** необходимо отправить **ноутбук в формате `ipynb` с выполненным кодом**.\n",
        "* Выполнять задание необходимо **полностью самостоятельно**. При обнаружении списывания **все участники списывания будут сдавать устный зачет.**\n",
        "* Решения, размещенные на каких-либо интернет-ресурсах не принимаются. Кроме того, публикация решения в открытом доступе может быть приравнена к предоставлении возможности списать.\n",
        "* Простой или основной уровень вы выбираете самостоятельно, выполняя или не выполняя задания типа B. При выборе **простого уровня** достаточно выполнить задания *типа A*. При выборе **основного уровня** нужно выполнять *как задания типа A, так и задания типа B*.\n",
        "* Для выполнения задания используйте этот ноутбук в качествие основы, ничего не удаляя из него. Можно добавлять необходимое количество ячеек. Ячейки с assert'ами **удалять и изменять нельзя**, в противном случае соответствующее задание не будет оценено.\n",
        "* Комментарии к решению пишите в markdown-ячейках.\n",
        "* Никакой код из данного задания при проверке запускаться не будет. **Если код студента не выполнен, недописан и т.д., то он не оценивается.**\n",
        "* Каждая задача стоит **5 баллов**."
      ],
      "id": "7849ff45"
    },
    {
      "cell_type": "code",
      "execution_count": 2,
      "metadata": {
        "id": "e73c8c89"
      },
      "outputs": [],
      "source": [
        "import numpy as np\n",
        "import scipy.stats as sp\n",
        "import matplotlib.pyplot as plt\n",
        "from scipy.special import factorial, gammaln"
      ],
      "id": "e73c8c89"
    },
    {
      "cell_type": "code",
      "execution_count": 3,
      "metadata": {
        "id": "2ptjyNGlktB-"
      },
      "outputs": [],
      "source": [
        "import math"
      ],
      "id": "2ptjyNGlktB-"
    },
    {
      "cell_type": "markdown",
      "metadata": {
        "id": "d46b400d"
      },
      "source": [
        "### Задача 4\n",
        "\n",
        "Оценку $\\theta$ из задания 1.1 и оценку $a$ из задания 1.2 проверьте на несмещённость и состоятельность"
      ],
      "id": "d46b400d"
    },
    {
      "cell_type": "markdown",
      "metadata": {
        "id": "0c03e1d0"
      },
      "source": [
        "__________________\n",
        "### Задача 5\n",
        "\n",
        "Загрузите данные об экспрессии гена FAM129A из файла `FAM129A.txt` с помощью функции `np.loadtxt`. Постройте гистограмму функцией `plt.hist`, указав в параметре `bins` оптимальное количество разбиений."
      ],
      "id": "0c03e1d0"
    },
    {
      "cell_type": "code",
      "execution_count": 5,
      "metadata": {
        "colab": {
          "base_uri": "https://localhost:8080/"
        },
        "id": "5019d4e8",
        "outputId": "d3bf6e74-bf93-4e7a-e791-dd4b943179ff"
      },
      "outputs": [
        {
          "output_type": "stream",
          "name": "stdout",
          "text": [
            "[ 5663.  7016.  7952. ... 23674.  1419.  2829.]\n"
          ]
        }
      ],
      "source": [
        "x = np.loadtxt(\"FAM129A.txt\")\n",
        "print(x)"
      ],
      "id": "5019d4e8"
    },
    {
      "cell_type": "code",
      "execution_count": 7,
      "metadata": {
        "id": "SnSbTDXynCyn"
      },
      "outputs": [],
      "source": [
        "bin = 10000"
      ],
      "id": "SnSbTDXynCyn"
    },
    {
      "cell_type": "code",
      "execution_count": 8,
      "metadata": {
        "colab": {
          "base_uri": "https://localhost:8080/",
          "height": 295
        },
        "id": "mP_KbLEJe716",
        "outputId": "15fa6c6a-a289-4397-8bd7-accd4af50f8e"
      },
      "outputs": [
        {
          "output_type": "display_data",
          "data": {
            "text/plain": [
              "<Figure size 432x288 with 1 Axes>"
            ],
            "image/png": "[encoded data removed]"
          },
          "metadata": {
            "needs_background": "light"
          }
        }
      ],
      "source": [
        "fig = plt.figure(1)\n",
        "plt.hist(x, edgecolor = \"black\", bins = bin)\n",
        "\n",
        "plt.title(\"FAM129A\")\n",
        "plt.xlabel(\"X\")\n",
        "plt.xlim(0, 10000)\n",
        "plt.ylabel(\"Y\")\n",
        "plt.show()"
      ],
      "id": "mP_KbLEJe716"
    },
    {
      "cell_type": "markdown",
      "metadata": {
        "id": "e5023f8d"
      },
      "source": [
        "В предположении, что данные имеют пуассоновское распределение, найдите оценку максимального правдоподобия параметра распределения. Нарисуйте график дискретной плотности полученного распределения и сравните его с гистограммой. Хорошо ли оценка распределения приближает данные?"
      ],
      "id": "e5023f8d"
    },
    {
      "cell_type": "code",
      "execution_count": 9,
      "metadata": {
        "id": "TnLVE43XklL3"
      },
      "outputs": [],
      "source": [
        "y = np.array([])\n",
        "for i in range (1, round(max(x)), round(max(x)/bin)):\n",
        "  y = np.append(y, np.count_nonzero((i < x) * (x < i + round(max(x)/bin))))"
      ],
      "id": "TnLVE43XklL3"
    },
    {
      "cell_type": "code",
      "execution_count": 13,
      "metadata": {
        "colab": {
          "base_uri": "https://localhost:8080/",
          "height": 814
        },
        "id": "0f5db566",
        "outputId": "6abe5ad3-2fff-463e-df5a-4fff7d781c30"
      },
      "outputs": [
        {
          "output_type": "stream",
          "name": "stdout",
          "text": [
            "[  1   2   3   4   5   6   7   8   9  10  11  12  13  14  15  16  17  18\n",
            "  19  20  21  22  23  24  25  26  27  28  29  30  31  32  33  34  35  36\n",
            "  37  38  39  40  41  42  43  44  45  46  47  48  49  50  51  52  53  54\n",
            "  55  56  57  58  59  60  61  62  63  64  65  66  67  68  69  70  71  72\n",
            "  73  74  75  76  77  78  79  80  81  82  83  84  85  86  87  88  89  90\n",
            "  91  92  93  94  95  96  97  98  99 100] [ 9.64374924e-21  2.41093731e-19  4.01822885e-18  5.02278606e-17\n",
            "  5.02278606e-16  4.18565505e-15  2.98975361e-14  1.86859601e-13\n",
            "  1.03810889e-12  5.19054446e-12  2.35933839e-11  1.74470828e-12\n",
            " -1.45990011e-13  9.16236785e-15  6.12467705e-16  4.34141754e-17\n",
            " -2.34930377e-18  1.42774403e-19 -4.50611715e-21  4.34037297e-22\n",
            " -1.11609157e-23 -4.24921148e-26  4.52520628e-26  2.52431384e-27\n",
            "  2.33274494e-30 -4.33614598e-30  1.38798123e-31  2.79284846e-33\n",
            " -1.35310735e-35  4.27480560e-36 -2.81444466e-38 -3.41129048e-39\n",
            "  1.58017412e-40  3.40536203e-42  4.43148092e-44  4.16158307e-45\n",
            " -6.32156166e-47 -1.54720106e-48 -6.49080710e-50  1.71713329e-51\n",
            " -3.30780623e-53  1.13836494e-54  2.80780772e-56 -2.15459792e-58\n",
            " -1.45631940e-60 -2.89784950e-61 -5.62483790e-63 -1.27065541e-64\n",
            " -9.78007364e-67 -4.21476727e-68 -3.33201998e-71  1.20723801e-71\n",
            " -2.62933362e-73  3.14574804e-75  5.74690813e-77  1.27057493e-78\n",
            " -2.67489458e-80 -3.54760554e-82  7.21546891e-84  2.67239589e-86\n",
            "  8.76195374e-88  2.82643669e-89 -8.97281489e-91  0.00000000e+00\n",
            "  0.00000000e+00  0.00000000e+00  0.00000000e+00  0.00000000e+00\n",
            "  0.00000000e+00  0.00000000e+00  0.00000000e+00  0.00000000e+00\n",
            "  0.00000000e+00  0.00000000e+00  0.00000000e+00  0.00000000e+00\n",
            "  0.00000000e+00  0.00000000e+00  0.00000000e+00  0.00000000e+00\n",
            "  0.00000000e+00  0.00000000e+00  0.00000000e+00  0.00000000e+00\n",
            "  0.00000000e+00  0.00000000e+00  0.00000000e+00  0.00000000e+00\n",
            "  0.00000000e+00  0.00000000e+00  0.00000000e+00  0.00000000e+00\n",
            "  0.00000000e+00  0.00000000e+00  0.00000000e+00  0.00000000e+00\n",
            "  0.00000000e+00  0.00000000e+00  0.00000000e+00  0.00000000e+00]\n"
          ]
        },
        {
          "output_type": "display_data",
          "data": {
            "text/plain": [
              "<Figure size 432x288 with 1 Axes>"
            ],
            "image/png": "[encoded data removed]"
          },
          "metadata": {
            "needs_background": "light"
          }
        }
      ],
      "source": [
        "theta = 50\n",
        "y = np.arange(1, 100 + 1)\n",
        "print(np.arange(1, 100 + 1), np.power(theta, y)/factorial(y) * math.exp(-theta))\n",
        "fig = plt.figure(1)\t\n",
        "plt.title(\"\", fontsize='16')\n",
        "plt.plot(np.arange(1, 100 + 1), np.power(theta, y)/factorial(y) * math.exp(-theta), color = \"black\")\n",
        "plt.xlabel(\"n\",fontsize='13')\n",
        "plt.ylabel(\"theta\",fontsize='13')\t\n",
        "plt.grid()\n",
        "plt.show()"
      ],
      "id": "0f5db566"
    },
    {
      "cell_type": "markdown",
      "metadata": {
        "id": "ac4a84cf"
      },
      "source": [
        "__________________\n",
        "### Задача 6\n",
        "Пусть $X_1, ..., X_n$ &mdash; выборка из распределения $U[0, \\theta]$. Рассмотрим оценки \n",
        "* $2\\overline{X}$, \n",
        "* $(n+1) \\min_i X_i$,\n",
        "* $\\min_i X_i + \\max_i X_i$,\n",
        "* $\\frac{n+1}{n} \\max_i X_i$. \n",
        "\n",
        "Вам необходимо сравнить эти оценки в равномерном подходе с квадратичной и линейной функциями потерь, построив графики функций риска при помощи моделирования.\n",
        "\n",
        "Для каждого $\\theta \\in (0, 2]$ с шагом $0.01$ сгенерируйте $5000$ независимых выборок $X^1=\\left(X^1_1, \\dots, X^1_{100} \\right), \\dots, X^{5000} = \\left(X^{5000}_1, \\dots, X^{5000}_{100} \\right)$ из распределения $U[0, \\theta]$.\n",
        "\n",
        "Рассмотрим одну из перечисленных выше оценок $\\widehat{\\theta}$. Посчитайте ее значение по каждой выборке. Тем самым, для данного $\\theta$ получится $5000$ реализаций этой оценки $\\widehat{\\theta}_1, ..., \\widehat{\\theta}_{5000}$, где значение $\\widehat{\\theta}_j$ посчитано по реализации выборки $X^j$.\n",
        "\n",
        "Теперь можно оценить функцию риска этой оценки с помощью усреднения\n",
        "$$\\widehat{R}_{\\widehat{\\theta}}(\\theta) = \\frac{1}{5000}\\sum\\limits_{j=1}^{5000} L\\left(\\widehat{\\theta}_j, \\theta\\right),$$\n",
        "где $L$ &mdash; одна из двух функций потерь: квадратичная $L(x, y)=(x-y)^2$ и линейная $L(x, y)=\\left|x-y\\right|$.\n",
        "\n",
        "Для каждого из типов функций потерь постройте свой график. Нанесите на этот график для каждой из четырех оценок $\\widehat{\\theta}$ оценку функции потерь $\\widehat{R}_{\\widehat{\\theta}}(\\theta)$, пользуясь шаблоном ниже. Ограничение сверху по оси *y* ставьте таким, чтобы графики функции риска с малыми значениями четко различались.\n",
        "\n",
        "*Совет*: при тестировании кода запускайте его с небольшими размерами данных. Например, используйте 100 реализаций выборок. Финальные результаты получите, поставив требуемые значения размеров данных.\n",
        "\n",
        "В задаче доспустимо использовать короткие циклы, то есть с малым количествои итераций."
      ],
      "id": "ac4a84cf"
    },
    {
      "cell_type": "code",
      "execution_count": null,
      "metadata": {
        "id": "f64ae88e"
      },
      "outputs": [],
      "source": [
        "plt.plot(<сетка по параметру>, <функция риска>,\n",
        "         label=<latex-метка>)  # для каждой оценки\n",
        "plt.grid(ls=':')\n",
        "plt.xlabel('$\\\\theta$', fontsize=16)\n",
        "plt.ylabel('$\\\\widehat{R}_{\\\\widehat{\\\\theta}}(\\\\theta)$', fontsize=16)\n",
        "plt.legend(fontsize=14)\n",
        "plt.title(<тип функции потерь>, fontsize=16)\n",
        "plt.ylim((0, <ограничение сверху>))"
      ],
      "id": "f64ae88e"
    },
    {
      "cell_type": "markdown",
      "metadata": {
        "id": "74e5f500"
      },
      "source": [
        "**Решение:**"
      ],
      "id": "74e5f500"
    },
    {
      "cell_type": "code",
      "execution_count": null,
      "metadata": {
        "id": "cf72e03f"
      },
      "outputs": [],
      "source": [
        "<...>"
      ],
      "id": "cf72e03f"
    },
    {
      "cell_type": "markdown",
      "metadata": {
        "id": "cca0eb78"
      },
      "source": [
        "Сделайте вывод о том, какая оценка лучше и в каком подходе.\n",
        "\n",
        "**Вывод:** <...>"
      ],
      "id": "cca0eb78"
    }
  ],
  "metadata": {
    "colab": {
      "name": "hw1-b.ipynb",
      "provenance": []
    },
    "kernelspec": {
      "display_name": "Python 3",
      "language": "python",
      "name": "python3"
    },
    "language_info": {
      "codemirror_mode": {
        "name": "ipython",
        "version": 3
      },
      "file_extension": ".py",
      "mimetype": "text/x-python",
      "name": "python",
      "nbconvert_exporter": "python",
      "pygments_lexer": "ipython3",
      "version": "3.8.10"
    }
  },
  "nbformat": 4,
  "nbformat_minor": 5
}